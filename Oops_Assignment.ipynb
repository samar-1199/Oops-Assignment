{
  "nbformat": 4,
  "nbformat_minor": 0,
  "metadata": {
    "colab": {
      "provenance": []
    },
    "kernelspec": {
      "name": "python3",
      "display_name": "Python 3"
    },
    "language_info": {
      "name": "python"
    }
  },
  "cells": [
    {
      "cell_type": "markdown",
      "source": [
        "**Q1.**What is Object-Oriented Programming (OOP)?\n",
        "\n",
        "As the name suggests, Object-Oriented Programming or OOPs refers to languages that use objects in programming. Object-oriented programming aims to implement real-world entities like inheritance, hiding, polymorphism, etc in programming. The main aim of OOP is to bind together the data and the functions that operate on them so that no other part of the code can access this data except that function.\n",
        "\n",
        "**Q2.** What is a class in OOP?\n",
        "\n",
        "A class is a user-defined data type. It consists of data members and member functions, which can be accessed and used by creating an instance of that class. It represents the set of properties or methods that are common to all objects of one type. A class is like a blueprint for an object.  \n",
        "\n",
        "**Q3.**What is an object in OOP?\n",
        "\n",
        "It is a basic unit of Object-Oriented Programming and represents the real-life entities. An Object is an instance of a Class. When a class is defined, no memory is allocated but when it is instantiated (i.e. an object is created) memory is allocated. An object has an identity, state, and behavior. Each object contains data and code to manipulate the data. Objects can interact without having to know details of each other’s data or code, it is sufficient to know the type of message accepted and type of response returned by the objects.\n",
        "\n",
        "**Q4.**What is the difference between abstraction and encapsulation?\n",
        "\n",
        " Data Abstraction:\n",
        "\n",
        "Data abstraction is one of the most essential and important features of object-oriented programming. Data abstraction refers to providing only essential information about the data to the outside world, hiding the background details or implementation. Consider a real-life example of a man driving a car. The man only knows that pressing the accelerators will increase the speed of the car or applying brakes will stop the car, but he does not know about how on pressing the accelerator the speed is increasing, he does not know about the inner mechanism of the car or the implementation of the accelerator, brakes, etc in the car. This is what abstraction is.\n",
        "\n",
        "Encapsulation:\n",
        "\n",
        "Encapsulation is defined as the wrapping up of data under a single unit. It is the mechanism that binds together code and the data it manipulates. In Encapsulation, the variables or data of a class are hidden from any other class and can be accessed only through any member function of their class in which they are declared. As in encapsulation, the data in a class is hidden from other classes, so it is also known as data-hiding.\n",
        "\n"
      ],
      "metadata": {
        "id": "DfBgzUlFqGZi"
      }
    },
    {
      "cell_type": "markdown",
      "source": [
        "**Q5.** What are dunder methods in Python?\n",
        "\n",
        "Dunder methods, also known as magic methods or special methods, in Python are special reserved methods\n",
        "that are surrounded by double underscores (i.e., __method__). These methods allow you to define how\n",
        "instances of your classes behave when they are used with built-in Python functions or operators.\n",
        "\n",
        "**Q6.** Explain the concept of inheritance in OOP.\n",
        "\n",
        "Inheritance is a fundamental concept in object-oriented programming (OOP) that allows a class (called a child or derived class) to inherit attributes and methods from another class (called a parent or base class). This promotes code reuse, modularity, and a hierarchical class structure.\n",
        "\n",
        "**Q7.**What is polymorphism in OOP?\n",
        "\n",
        "Polymorphism is a foundational concept in programming that allows entities like functions, methods or operators to behave differently based on the type of data they are handling. Derived from Greek, the term literally means “many forms”.\n",
        "\n",
        "Python’s dynamic typing and duck typing make it inherently polymorphic. Functions, operators and even built-in objects like loops exhibit polymorphic behavior.\n",
        "\n",
        "**Q8.**How is encapsulation achieved in Python?\n",
        "\n",
        "In Python, encapsulation refers to the bundling of data (attributes) and methods (functions) that operate on the data into a single unit, typically a class. It also restricts direct access to some components, which helps protect the integrity of the data and ensures proper usage.\n",
        "\n",
        "**Q9.**What is a constructor in Python?\n",
        "\n",
        "In Python, a constructor is a special method that is called automatically when an object is created from a class. Its main role is to initialize the object by setting up its attributes or state.\n",
        "\n",
        "The method __new__ is the constructor that creates a new instance of the class while __init__ is the initializer that sets up the instance’s attributes after creation. These methods work together to manage object creation and initialization.\n",
        "\n"
      ],
      "metadata": {
        "id": "R46CAgQKrlkz"
      }
    },
    {
      "cell_type": "markdown",
      "source": [
        "**Q10.**What are class and static methods in Python?\n",
        "\n",
        "Class Method in Python\n",
        "The @classmethod decorator is a built-in function decorator that is an expression that gets evaluated after your function is defined. The result of that evaluation shadows your function definition. A class method receives the class as an implicit first argument, just like an instance method receives the instance.\n",
        "\n",
        "Static Method in Python?\n",
        "A static method does not receive an implicit first argument. A static method is also a method that is bound to the class and not the object of the class. This method can’t access or modify the class state. It is present in a class because it makes sense for the method to be present in class.\n",
        "\n",
        "**Q11.** What is method overloading in Python?\n",
        "\n",
        "Method Overloading:\n",
        "\n",
        "Two or more methods have the same name but different numbers of parameters or different types of parameters, or both. These methods are called overloaded methods and this is called method overloading.\n",
        "\n",
        "**Q12.**What is method overriding in OOP?\n",
        "\n",
        "Method overriding is an ability of any object-oriented programming language that allows a subclass or child class to provide a specific implementation of a method that is already provided by one of its super-classes or parent classes. When a method in a subclass has the same name, the same parameters or signature, and same return type(or sub-type) as a method in its super-class, then the method in the subclass is said to override the method in the super-class.\n",
        "\n",
        "\n",
        "\n",
        "\n",
        "\n"
      ],
      "metadata": {
        "id": "gKXs6wi3vqry"
      }
    },
    {
      "cell_type": "markdown",
      "source": [
        "**Q13.**What is a property decorator in Python?\n",
        "\n",
        "A decorator feature in Python wraps in a function, appends several functionalities to existing code and then returns it. Methods and functions are known to be callable as they can be called. Therefore, a decorator is also a callable that returns callable. This is also known as metaprogramming as at compile time a section of program alters another section of the program.\n",
        "\n",
        "**Q14.**Why is polymorphism important in OOP?\n",
        "\n",
        "Polymorphism is a foundational concept in programming that allows entities like functions, methods or operators to behave differently based on the type of data they are handling. Derived from Greek, the term literally means “many forms”.\n",
        "\n",
        "Python’s dynamic typing and duck typing make it inherently polymorphic. Functions, operators and even built-in objects like loops exhibit polymorphic behavior.\n",
        "\n"
      ],
      "metadata": {
        "id": "HoePNh2dySNf"
      }
    },
    {
      "cell_type": "markdown",
      "source": [
        "**Q15.**What is an abstract class in Python?\n",
        "\n",
        "In Python, an abstract class is a class that cannot be instantiated on its own and is designed to be a blueprint for other classes. Abstract classes allow us to define methods that must be implemented by subclasses, ensuring a consistent interface while still allowing the subclasses to provide specific implementations.\n",
        "\n",
        "**Q16.**What are the advantages of OOP?\n",
        "\n",
        "- We can build the programs from standard working modules that communicate with one another, rather than having to start writing the code from scratch which leads to saving of development time and higher productivity.\n",
        "- OOP language allows to break the program into the bit-sized problems that can be solved easily (one object at a time).\n",
        "- The new technology promises greater programmer productivity, better quality of software and lesser maintenance cost.\n",
        "\n",
        "**Q17.**What is the difference between a class variable and an instance variable?\n",
        "\n",
        "Class Variable: It is basically a static variable that can be declared anywhere at class level with static. Across different objects, these variables can have only one value. These variables are not tied to any particular object of the class, therefore, can share across all objects of the class.  \n",
        "\n",
        "Instance Variable:It is basically a class variable without a static modifier and is usually shared by all class instances. Across different objects, these variables can have different values. They are tied to a particular object instance of the class, therefore, the contents of an instance variable are totally independent of one object instance to others.\n",
        "\n"
      ],
      "metadata": {
        "id": "gZDRtJLZzSGZ"
      }
    },
    {
      "cell_type": "markdown",
      "source": [
        "**Q18.**What is multiple inheritance in Python?\n",
        "\n",
        "Inheritance is the mechanism to achieve the re-usability of code as one class(child class) can derive the properties of another class(parent class). It also provides transitivity ie. if class C inherits from P then all the sub-classes of C would also inherit from P.\n",
        "\n",
        "\n",
        "Multiple Inheritance\n",
        "When a class is derived from more than one base class it is called multiple Inheritance. The derived class inherits all the features of the base case.\n",
        "\n",
        "\n",
        "**Q19.**Explain the purpose of ‘’__str__’ and ‘__repr__’ ‘ methods in Python\n",
        "\n",
        "In Python, the str() and repr() functions are used to obtain string representations of objects. While they may seem similar at first glance, there are some differences in how they behave. Both of the functions can be helpful in debugging or printing useful information about the object.\n",
        "\n",
        "**Q20.** What is the significance of the ‘super()’ function in Python\n",
        "\n",
        "In Python, the super() function is used to refer to the parent class or superclass. It allows you to call methods defined in the superclass from the subclass, enabling you to extend and customize the functionality inherited from the parent class.\n",
        "\n"
      ],
      "metadata": {
        "id": "LwBd-4wz2Npb"
      }
    },
    {
      "cell_type": "markdown",
      "source": [
        "**Q21.**What is the significance of the __del__ method in Python?\n",
        "\n",
        "The __del__ method is a special method in Python that is called when an object is about to be destroyed. It allows you to define specific cleanup actions that should be taken when an object is garbage collected. This method can be particularly useful for releasing external resources such as file handles, network connections, or database connections that the object may hold.\n",
        "\n",
        "**Q22.**What is the difference between @staticmethod and @classmethod in Python?\n",
        "\n",
        "The @classmethod decorator is a built-in function decorator that is an expression that gets evaluated after your function is defined. The result of that evaluation shadows your function definition. A class method receives the class as an implicit first argument, just like an instance method receives the instance\n",
        "\n",
        "A static method does not receive an implicit first argument. A static method is also a method that is bound to the class and not the object of the class. This method can’t access or modify the class state. It is present in a class because it makes sense for the method to be present in class.\n",
        "\n",
        "**Q23.**How does polymorphism work in Python with inheritance?\n",
        "\n",
        "Polymorphism in Python: In OOP, polymorphism refers to an object's capacity to assume several forms.\n",
        "Simply said, polymorphism enables us to carry out a single activity in a variety of ways.\n",
        "\n",
        "From the Greek words poly (many) and morphism (forms), we get polymorphism. Polymorphism is the\n",
        "capacity to assume several shapes.\n",
        "\n",
        "Inheritance is the primary application of polymorphism. The traits and methods of a parent class are passed\n",
        "down to a child class through inheritance. A subclass, child class, or derived class is a new class that is\n",
        "created from an existing class, which is referred to as a base class or parent class.\n",
        "\n"
      ],
      "metadata": {
        "id": "vyrhLFVU3Tyx"
      }
    },
    {
      "cell_type": "markdown",
      "source": [
        "**Q24.**What is method chaining in Python OOP?\n",
        "\n",
        "Method chaining is a powerful technique in Python programming that allows us to call multiple methods on an object in a single, continuous line of code. This approach makes the code cleaner, more readable, and often easier to maintain. It is frequently used in data processing, object-oriented programming, and frameworks such as Pandas, Django ORM, and Flask.\n",
        "\n",
        "**Q25.**What is the purpose of the __call__ method in Python?\n",
        "\n",
        "Python has a set of built-in methods and\n",
        "\n",
        "__call__\n",
        "\n",
        "is one of them. The\n",
        "\n",
        "__call__\n",
        "\n",
        "method enables Python programmers to write classes where the instances behave like functions and can be called like a function. When the instance is called as a function; if this method is defined,\n",
        "\n",
        "x(arg1, arg2, ...)\n",
        "\n",
        "is a shorthand for\n",
        "\n",
        "x.__call__(arg1, arg2, ...)"
      ],
      "metadata": {
        "id": "aOG2INir4rUH"
      }
    },
    {
      "cell_type": "markdown",
      "source": [
        "#PRACTICAL QUESTIONS"
      ],
      "metadata": {
        "id": "-ZnXWZ_LISyD"
      }
    },
    {
      "cell_type": "markdown",
      "source": [
        "**Q1.** Create a parent class Animal with a method speak() that prints a generic message. Create a child class Dog\n",
        "that overrides the speak() method to print \"Bark!\"."
      ],
      "metadata": {
        "id": "9j_pmoyyIeUy"
      }
    },
    {
      "cell_type": "code",
      "source": [
        "class Animal:\n",
        "    def speak(self):\n",
        "        print(\"Animal Speaking\")\n",
        "#child class Dog inherits the base class Animal\n",
        "class Dog(Animal):\n",
        "    def bark(self):\n",
        "        print(\"dog barking\")\n",
        "d = Dog()\n",
        "d.bark()\n",
        "d.speak()"
      ],
      "metadata": {
        "id": "5RE2kt-GImrN"
      },
      "execution_count": null,
      "outputs": []
    },
    {
      "cell_type": "markdown",
      "source": [
        "**Q2.** Write a program to create an abstract class Shape with a method area(). Derive classes Circle and Rectangle\n",
        "from it and implement the area() method in both."
      ],
      "metadata": {
        "id": "33jkUzUCKnWS"
      }
    },
    {
      "cell_type": "code",
      "source": [
        "from abc import ABC, abstractmethod\n",
        "\n",
        "class Shape(ABC):\n",
        "    \"\"\"\n",
        "    An abstract class Shape that serves as a base for other shapes.\n",
        "    \"\"\"\n",
        "\n",
        "    @abstractmethod\n",
        "    def area(self):\n",
        "        \"\"\"\n",
        "        Abstract method to calculate the area of a shape.\n",
        "        \"\"\"\n",
        "        pass\n",
        "\n",
        "\n",
        "class Circle(Shape):\n",
        "    \"\"\"\n",
        "    A class representing a circle.\n",
        "    \"\"\"\n",
        "\n",
        "    def __init__(self, radius):\n",
        "        \"\"\"\n",
        "        Initialize a Circle with a radius.\n",
        "\n",
        "        Args:\n",
        "            radius (float): The radius of the circle.\n",
        "        \"\"\"\n",
        "        self.radius = radius\n",
        "\n",
        "    def area(self):\n",
        "        \"\"\"\n",
        "        Calculate the area of the circle.\n",
        "\n",
        "        Returns:\n",
        "            float: The area of the circle.\n",
        "        \"\"\"\n",
        "        return 3.14159 * (self.radius ** 2)\n",
        "\n",
        "\n",
        "class Rectangle(Shape):\n",
        "    \"\"\"\n",
        "    A class representing a rectangle.\n",
        "    \"\"\"\n",
        "\n",
        "    def __init__(self, width, height):\n",
        "        \"\"\"\n",
        "        Initialize a Rectangle with a width and height.\n",
        "\n",
        "        Args:\n",
        "            width (float): The width of the rectangle.\n",
        "            height (float): The height of the rectangle.\n",
        "        \"\"\"\n",
        "        self.width = width\n",
        "        self.height = height\n",
        "\n",
        "    def area(self):\n",
        "        \"\"\"\n",
        "        Calculate the area of the rectangle.\n",
        "\n",
        "        Returns:\n",
        "            float: The area of the rectangle.\n",
        "        \"\"\"\n",
        "        return self.width * self.height\n",
        "\n",
        "\n",
        "# Example usage:\n",
        "\n",
        "circle = Circle(5)\n",
        "print(f\"Circle area: {circle.area()}\")\n",
        "\n",
        "rectangle = Rectangle(4, 6)\n",
        "print(f\"Rectangle area: {rectangle.area()}\")"
      ],
      "metadata": {
        "id": "NLSq8oC4K08M"
      },
      "execution_count": null,
      "outputs": []
    },
    {
      "cell_type": "markdown",
      "source": [
        "**Q3.** Implement a multi-level inheritance scenario where a class Vehicle has an attribute type. Derive a class Car\n",
        "and further derive a class ElectricCar that adds a battery attribute."
      ],
      "metadata": {
        "id": "PTJKngviMJdR"
      }
    },
    {
      "cell_type": "code",
      "source": [
        "class Vehicle:\n",
        "    \"\"\"\n",
        "    A base class representing a vehicle.\n",
        "    \"\"\"\n",
        "\n",
        "    def __init__(self, vehicle_type):\n",
        "        \"\"\"\n",
        "        Initialize the Vehicle with a type.\n",
        "\n",
        "        Args:\n",
        "            vehicle_type (str): The type of the vehicle (e.g., car, truck, etc.).\n",
        "        \"\"\"\n",
        "        self.vehicle_type = vehicle_type\n",
        "\n",
        "    def display_info(self):\n",
        "        \"\"\"\n",
        "        Display the type of vehicle.\n",
        "        \"\"\"\n",
        "        return f\"This is a {self.vehicle_type}.\"\n",
        "\n",
        "\n",
        "class Car(Vehicle):\n",
        "    \"\"\"\n",
        "    A class representing a car, inheriting from Vehicle.\n",
        "    \"\"\"\n",
        "\n",
        "    def __init__(self, vehicle_type, brand):\n",
        "        \"\"\"\n",
        "        Initialize the Car with a type and brand.\n",
        "\n",
        "        Args:\n",
        "            vehicle_type (str): The type of the vehicle.\n",
        "            brand (str): The brand of the car.\n",
        "        \"\"\"\n",
        "        super().__init__(vehicle_type)\n",
        "        self.brand = brand\n",
        "\n",
        "    def display_info(self):\n",
        "        \"\"\"\n",
        "        Display information about the car.\n",
        "        \"\"\"\n",
        "        return f\"{super().display_info()} It's a {self.brand} car.\"\n",
        "\n",
        "\n",
        "class ElectricCar(Car):\n",
        "    \"\"\"\n",
        "    A class representing an electric car, inheriting from Car.\n",
        "    \"\"\"\n",
        "\n",
        "    def __init__(self, vehicle_type, brand, battery):\n",
        "        \"\"\"\n",
        "        Initialize the ElectricCar with a type, brand, and battery.\n",
        "\n",
        "        Args:\n",
        "            vehicle_type (str): The type of the vehicle.\n",
        "            brand (str): The brand of the car.\n",
        "            battery (str): The type of battery used in the electric car.\n",
        "        \"\"\"\n",
        "        super().__init__(vehicle_type, brand)\n",
        "        self.battery = battery\n",
        "\n",
        "    def display_info(self):\n",
        "        \"\"\"\n",
        "        Display information about the electric car.\n",
        "        \"\"\"\n",
        "        return f\"{super().display_info()} It has a {self.battery} battery.\"\n",
        "\n",
        "\n"
      ],
      "metadata": {
        "id": "JkZEBelNMQXq"
      },
      "execution_count": null,
      "outputs": []
    },
    {
      "cell_type": "markdown",
      "source": [
        "**Q4.** Write a program to demonstrate encapsulation by creating a class BankAccount with private attributes\n",
        "balance and methods to deposit, withdraw, and check balance.\n"
      ],
      "metadata": {
        "id": "2kCfdOgqO-D7"
      }
    },
    {
      "cell_type": "code",
      "source": [
        "class BankAccount:\n",
        "    \"\"\"\n",
        "    A class representing a bank account with encapsulation of the balance.\n",
        "    \"\"\"\n",
        "\n",
        "    def __init__(self, initial_balance=0.0):\n",
        "        \"\"\"\n",
        "        Initialize the bank account with a balance.\n",
        "\n",
        "        Args:\n",
        "            initial_balance (float): The initial balance for the account.\n",
        "        \"\"\"\n",
        "        self.__balance = initial_balance  # Private attribute\n",
        "\n",
        "    def deposit(self, amount):\n",
        "        \"\"\"\n",
        "        Deposit money into the account.\n",
        "\n",
        "        Args:\n",
        "            amount (float): The amount to deposit.\n",
        "        \"\"\"\n",
        "        if amount > 0:\n",
        "            self.__balance += amount\n",
        "            print(f\"Deposited: ${amount:.2f}\")\n",
        "        else:\n",
        "            print(\"Deposit amount must be positive.\")\n",
        "\n",
        "    def withdraw(self, amount):\n",
        "        \"\"\"\n",
        "        Withdraw money from the account.\n",
        "\n",
        "        Args:\n",
        "            amount (float): The amount to withdraw.\n",
        "        \"\"\"\n",
        "        if 0 < amount <= self.__balance:\n",
        "            self.__balance -= amount\n",
        "            print(f\"Withdrew: ${amount:.2f}\")\n",
        "        elif amount > self.__balance:\n",
        "            print(\"Insufficient funds.\")\n",
        "        else:\n",
        "            print(\"Withdraw amount must be positive.\")\n",
        "\n",
        "    def check_balance(self):\n",
        "        \"\"\"\n",
        "        Check the current balance of the account.\n",
        "\n",
        "        Returns:\n",
        "            float: The current balance.\n",
        "        \"\"\"\n",
        "        return self.__balance\n"
      ],
      "metadata": {
        "id": "LYaZUS2gPIaW"
      },
      "execution_count": null,
      "outputs": []
    },
    {
      "cell_type": "markdown",
      "source": [
        "**Q5.**Demonstrate runtime polymorphism using a method play() in a base class Instrument. Derive classes Guitar\n",
        "and Piano that implement their own version of play().\n",
        "\n"
      ],
      "metadata": {
        "id": "KP1vWkpGPI6S"
      }
    },
    {
      "cell_type": "code",
      "source": [
        "class Instrument:\n",
        "    \"\"\"\n",
        "    A base class representing a musical instrument.\n",
        "    \"\"\"\n",
        "\n",
        "    def play(self):\n",
        "        \"\"\"\n",
        "        This method is meant to be overridden in derived classes.\n",
        "        \"\"\"\n",
        "        raise NotImplementedError(\"Subclasses must implement this method.\")\n",
        "\n",
        "\n",
        "class Guitar(Instrument):\n",
        "    \"\"\"\n",
        "    A class representing a Guitar, inheriting from Instrument.\n",
        "    \"\"\"\n",
        "\n",
        "    def play(self):\n",
        "        \"\"\"\n",
        "        Play a sound specific to the guitar.\n",
        "        \"\"\"\n",
        "        return \"Strumming the guitar!\"\n",
        "\n",
        "\n",
        "class Piano(Instrument):\n",
        "    \"\"\"\n",
        "    A class representing a Piano, inheriting from Instrument.\n",
        "    \"\"\"\n",
        "\n",
        "    def play(self):\n",
        "        \"\"\"\n",
        "        Play a sound specific to the piano.\n",
        "        \"\"\"\n",
        "        return \"Playing the piano!\"\n",
        "\n",
        "\n",
        "# Example usage:\n",
        "def play_instrument(instrument):\n",
        "    \"\"\"\n",
        "    Function to play a given instrument.\n",
        "\n",
        "    Args:\n",
        "        instrument (Instrument): An instance of a class derived from Instrument.\n",
        "    \"\"\"\n",
        "    print(instrument.play())\n",
        "\n",
        "\n"
      ],
      "metadata": {
        "id": "bLrbylNuPRct"
      },
      "execution_count": null,
      "outputs": []
    },
    {
      "cell_type": "markdown",
      "source": [
        "**Q6.**Create a class MathOperations with a class method add_numbers() to add two numbers and a static\n",
        "method subtract_numbers() to subtract two numbers"
      ],
      "metadata": {
        "id": "OArgP6UUPR40"
      }
    },
    {
      "cell_type": "code",
      "source": [
        "class MathOperations:\n",
        "    \"\"\"\n",
        "    A class that provides mathematical operations.\n",
        "    \"\"\"\n",
        "\n",
        "    @classmethod\n",
        "    def add_numbers(cls, a, b):\n",
        "        \"\"\"\n",
        "        Class method to add two numbers.\n",
        "\n",
        "        Args:\n",
        "            cls: Reference to the class (not used here).\n",
        "            a (float): The first number.\n",
        "            b (float): The second number.\n",
        "\n",
        "        Returns:\n",
        "            float: The sum of the two numbers.\n",
        "        \"\"\"\n",
        "        return a + b\n",
        "\n",
        "    @staticmethod\n",
        "    def subtract_numbers(a, b):\n",
        "        \"\"\"\n",
        "        Static method to subtract two numbers.\n",
        "\n",
        "        Args:\n",
        "            a (float): The first number.\n",
        "            b (float): The second number.\n",
        "\n",
        "        Returns:\n",
        "            float: The result of subtracting b from a.\n",
        "        \"\"\"\n",
        "        return a - b\n",
        "\n",
        "\n"
      ],
      "metadata": {
        "id": "tDcb_rAmP5QI"
      },
      "execution_count": null,
      "outputs": []
    },
    {
      "cell_type": "markdown",
      "source": [
        "**Q7.** Implement a class Person with a class method to count the total number of persons created."
      ],
      "metadata": {
        "id": "69PdKIsxP5pA"
      }
    },
    {
      "cell_type": "code",
      "source": [
        "class Person:\n",
        "    \"\"\"\n",
        "    A class representing a person.\n",
        "    \"\"\"\n",
        "\n",
        "    # Initialize a class-level variable to store the count of persons\n",
        "    person_count = 0\n",
        "\n",
        "    def __init__(self, name, age):\n",
        "        \"\"\"\n",
        "        Constructor to initialize a person object.\n",
        "\n",
        "        Args:\n",
        "            name (str): The name of the person.\n",
        "            age (int): The age of the person.\n",
        "        \"\"\"\n",
        "        self.name = name\n",
        "        self.age = age\n",
        "        # Increment the person count each time a new person is created\n",
        "        Person.person_count += 1\n",
        "\n",
        "    @classmethod\n",
        "    def get_person_count(cls):\n",
        "        \"\"\"\n",
        "        Class method to get the total number of persons created.\n",
        "\n",
        "        Returns:\n",
        "            int: The total number of persons created.\n",
        "        \"\"\"\n",
        "        return cls.person_count\n",
        "\n",
        "    def __str__(self):\n",
        "        \"\"\"\n",
        "        String representation of a person object.\n",
        "\n",
        "        Returns:\n",
        "            str: A string containing the name and age of the person.\n",
        "        \"\"\"\n",
        "        return f\"Name: {self.name}, Age: {self.age}\"\n",
        "\n",
        "\n"
      ],
      "metadata": {
        "id": "WbOXKBN8Q6v0"
      },
      "execution_count": null,
      "outputs": []
    },
    {
      "cell_type": "markdown",
      "source": [
        "**Q8.** Write a class Fraction with attributes numerator and denominator. Override the str method to display the\n",
        "fraction as \"numerator/denominator\"."
      ],
      "metadata": {
        "id": "hT-f_oMaQ7LY"
      }
    },
    {
      "cell_type": "code",
      "source": [
        "class Fraction:\n",
        "    \"\"\"\n",
        "    A class to represent a fraction.\n",
        "    \"\"\"\n",
        "\n",
        "    def __init__(self, numerator, denominator):\n",
        "        \"\"\"\n",
        "        Constructor to initialize a fraction object.\n",
        "\n",
        "        Args:\n",
        "            numerator (int): The numerator of the fraction.\n",
        "            denominator (int): The denominator of the fraction.\n",
        "\n",
        "        Raises:\n",
        "            ValueError: If the denominator is zero or a negative number.\n",
        "        \"\"\"\n",
        "        if denominator == 0:\n",
        "            raise ValueError(\"Denominator cannot be zero.\")\n",
        "        if denominator < 0:\n",
        "            raise ValueError(\"Denominator cannot be a negative number.\")\n",
        "        self.numerator = numerator\n",
        "        self.denominator = denominator\n",
        "\n",
        "    def __str__(self):\n",
        "        \"\"\"\n",
        "        String representation of a fraction object.\n",
        "\n",
        "        Returns:\n",
        "            str: A string containing the fraction in the format \"numerator/denominator\".\n",
        "        \"\"\"\n",
        "        return f\"{self.numerator}/{self.denominator}\"\n",
        "\n",
        "    def __repr__(self):\n",
        "        \"\"\"\n",
        "        Representation of a fraction object as a string.\n",
        "\n",
        "        Returns:\n",
        "            str: A string containing a representation of the fraction object.\n",
        "        \"\"\"\n",
        "        return f\"Fraction({self.numerator}, {self.denominator})\"\n",
        "\n",
        "    def __add__(self, other):\n",
        "        \"\"\"\n",
        "        Overload the + operator to add two fractions.\n",
        "\n",
        "        Args:\n",
        "            other (Fraction): The fraction to add to the current fraction.\n",
        "\n",
        "        Returns:\n",
        "            Fraction: The sum of the two fractions.\n",
        "        \"\"\"\n",
        "        numerator = self.numerator * other.denominator + other.numerator * self.denominator\n",
        "        denominator = self.denominator * other.denominator\n",
        "        return Fraction(numerator, denominator)\n",
        "\n",
        "    def __eq__(self, other):\n",
        "        \"\"\"\n",
        "        Overload the == operator to check if two fractions are equal.\n",
        "\n",
        "        Args:\n",
        "            other (Fraction): The fraction to compare with the current fraction.\n",
        "\n",
        "        Returns:\n",
        "            bool: True if the two fractions are equal, False otherwise.\n",
        "        \"\"\"\n",
        "        return self.numerator * other.denominator == other.numerator * self.denominator\n",
        "\n",
        "\n"
      ],
      "metadata": {
        "id": "-pTqoXTBRDBw"
      },
      "execution_count": null,
      "outputs": []
    },
    {
      "cell_type": "markdown",
      "source": [
        "**Q9.**Demonstrate operator overloading by creating a class Vector and overriding the add method to add two\n",
        "vectors."
      ],
      "metadata": {
        "id": "a9UFCve9RDhO"
      }
    },
    {
      "cell_type": "code",
      "source": [
        "class Vector:\n",
        "    \"\"\"\n",
        "    A class to represent a mathematical vector.\n",
        "    \"\"\"\n",
        "\n",
        "    def __init__(self, x, y):\n",
        "        \"\"\"\n",
        "        Constructor to initialize a vector object.\n",
        "\n",
        "        Args:\n",
        "            x (float): The x-coordinate of the vector.\n",
        "            y (float): The y-coordinate of the vector.\n",
        "        \"\"\"\n",
        "        self.x = x\n",
        "        self.y = y\n",
        "\n",
        "    def __add__(self, other):\n",
        "        \"\"\"\n",
        "        Overload the + operator to add two vectors.\n",
        "\n",
        "        Args:\n",
        "            other (Vector): The vector to add to the current vector.\n",
        "\n",
        "        Returns:\n",
        "            Vector: A new vector resulting from the addition of the two vectors.\n",
        "        \"\"\"\n",
        "        if not isinstance(other, Vector):\n",
        "            return NotImplemented\n",
        "        return Vector(self.x + other.x, self.y + other.y)\n",
        "\n",
        "    def __str__(self):\n",
        "        \"\"\"\n",
        "        String representation of a vector object.\n",
        "\n",
        "        Returns:\n",
        "            str: A string that represents the vector in the format \"(x, y)\".\n",
        "        \"\"\"\n",
        "        return f\"({self.x}, {self.y})\"\n",
        "\n",
        "    def __repr__(self):\n",
        "        \"\"\"\n",
        "        Representation of a vector object as a string.\n",
        "\n",
        "        Returns:\n",
        "            str: A string containing a representation of the vector object.\n",
        "        \"\"\"\n",
        "        return f\"Vector({self.x}, {self.y})\"\n",
        "\n",
        "\n"
      ],
      "metadata": {
        "id": "I_sVnUuySASs"
      },
      "execution_count": null,
      "outputs": []
    },
    {
      "cell_type": "markdown",
      "source": [
        "**Q10.** Create a class Person with attributes name and age. Add a method greet() that prints \"Hello, my name is\n",
        "{name} and I am {age} years old.\"\n",
        "\n",
        "\n"
      ],
      "metadata": {
        "id": "bwX4dX_qSA1H"
      }
    },
    {
      "cell_type": "code",
      "source": [
        "class Person:\n",
        "    \"\"\"\n",
        "    A class to represent a person.\n",
        "    \"\"\"\n",
        "\n",
        "    def __init__(self, name, age):\n",
        "        \"\"\"\n",
        "        Constructor to initialize a person object.\n",
        "\n",
        "        Args:\n",
        "            name (str): The name of the person.\n",
        "            age (int): The age of the person.\n",
        "        \"\"\"\n",
        "        self.name = name\n",
        "        self.age = age\n",
        "\n",
        "    def greet(self):\n",
        "        \"\"\"\n",
        "        Method to print a greeting message.\n",
        "        \"\"\"\n",
        "        print(f\"Hello, my name is {self.name} and I am {self.age} years old.\")\n",
        "\n"
      ],
      "metadata": {
        "id": "kPbX0E9FSH23"
      },
      "execution_count": null,
      "outputs": []
    },
    {
      "cell_type": "markdown",
      "source": [
        "**Q11.** Implement a class Student with attributes name and grades. Create a method average_grade() to compute\n",
        "the average of the grades."
      ],
      "metadata": {
        "id": "ly2b6pR9SIQ4"
      }
    },
    {
      "cell_type": "code",
      "source": [
        "class Student:\n",
        "    \"\"\"\n",
        "    A class to represent a student with a name and grades.\n",
        "    \"\"\"\n",
        "\n",
        "    def __init__(self, name, grades):\n",
        "        \"\"\"\n",
        "        Constructor to initialize a student object.\n",
        "\n",
        "        Args:\n",
        "            name (str): The name of the student.\n",
        "            grades (list of float): A list of grades for the student.\n",
        "        \"\"\"\n",
        "        self.name = name\n",
        "        self.grades = grades\n",
        "\n",
        "    def average_grade(self):\n",
        "        \"\"\"\n",
        "        Method to compute the average of the grades.\n",
        "\n",
        "        Returns:\n",
        "            float: The average grade, or None if there are no grades.\n",
        "        \"\"\"\n",
        "        if not self.grades:  # Check if the list of grades is empty\n",
        "            return None\n",
        "        return sum(self.grades) / len(self.grades)\n",
        "\n"
      ],
      "metadata": {
        "id": "6PoO7hOySRjB"
      },
      "execution_count": null,
      "outputs": []
    },
    {
      "cell_type": "markdown",
      "source": [
        "**Q12.**Create a class Rectangle with methods set_dimensions() to set the dimensions and area() to calculate the\n",
        "area."
      ],
      "metadata": {
        "id": "1lWpnXfPSRx9"
      }
    },
    {
      "cell_type": "code",
      "source": [
        "class Rectangle:\n",
        "    \"\"\"\n",
        "    A class to represent a rectangle with width and height.\n",
        "    \"\"\"\n",
        "\n",
        "    def __init__(self):\n",
        "        \"\"\"\n",
        "        Constructor to initialize the rectangle object with width and height.\n",
        "        Initially set to zero.\n",
        "        \"\"\"\n",
        "        self.width = 0\n",
        "        self.height = 0\n",
        "\n",
        "    def set_dimensions(self, width, height):\n",
        "        \"\"\"\n",
        "        Method to set the dimensions of the rectangle.\n",
        "\n",
        "        Args:\n",
        "            width (float): The width of the rectangle.\n",
        "            height (float): The height of the rectangle.\n",
        "        \"\"\"\n",
        "        self.width = width\n",
        "        self.height = height\n",
        "\n",
        "    def area(self):\n",
        "        \"\"\"\n",
        "        Method to calculate the area of the rectangle.\n",
        "\n",
        "        Returns:\n",
        "            float: The area of the rectangle.\n",
        "        \"\"\"\n",
        "        return self.width * self.height\n",
        "\n"
      ],
      "metadata": {
        "id": "EEXx0bnpSXL3"
      },
      "execution_count": null,
      "outputs": []
    },
    {
      "cell_type": "markdown",
      "source": [
        "**Q13.**Create a class Employee with a method calculate_salary() that computes the salary based on hours worked\n",
        "and hourly rate. Create a derived class Manager that adds a bonus to the salary"
      ],
      "metadata": {
        "id": "ieA1ebFXSXkO"
      }
    },
    {
      "cell_type": "code",
      "source": [
        "class Employee:\n",
        "    \"\"\"\n",
        "    A class to represent an employee.\n",
        "    \"\"\"\n",
        "\n",
        "    def __init__(self, name, hours_worked, hourly_rate):\n",
        "        \"\"\"\n",
        "        Constructor to initialize the employee object.\n",
        "\n",
        "        Args:\n",
        "            name (str): The name of the employee.\n",
        "            hours_worked (float): The number of hours worked by the employee.\n",
        "            hourly_rate (float): The hourly rate of the employee.\n",
        "        \"\"\"\n",
        "        self.name = name\n",
        "        self.hours_worked = hours_worked\n",
        "        self.hourly_rate = hourly_rate\n",
        "\n",
        "    def calculate_salary(self):\n",
        "        \"\"\"\n",
        "        Method to compute the salary based on hours worked and hourly rate.\n",
        "\n",
        "        Returns:\n",
        "            float: The total salary.\n",
        "        \"\"\"\n",
        "        return self.hours_worked * self.hourly_rate\n",
        "\n",
        "\n",
        "class Manager(Employee):\n",
        "    \"\"\"\n",
        "    A class to represent a manager, which is a type of employee.\n",
        "    \"\"\"\n",
        "\n",
        "    def __init__(self, name, hours_worked, hourly_rate, bonus):\n",
        "        \"\"\"\n",
        "        Constructor to initialize the manager object.\n",
        "\n",
        "        Args:\n",
        "            name (str): The name of the manager.\n",
        "            hours_worked (float): The number of hours worked by the manager.\n",
        "            hourly_rate (float): The hourly rate of the manager.\n",
        "            bonus (float): The bonus amount for the manager.\n",
        "        \"\"\"\n",
        "        super().__init__(name, hours_worked, hourly_rate)  # Call the constructor of Employee\n",
        "        self.bonus = bonus\n",
        "\n",
        "    def calculate_salary(self):\n",
        "        \"\"\"\n",
        "        Method to compute the salary for the manager including bonus.\n",
        "\n",
        "        Returns:\n",
        "            float: The total salary including bonus.\n",
        "        \"\"\"\n",
        "        base_salary = super().calculate_salary()  # Call the calculate_salary method from Employee\n",
        "        return base_salary + self.bonus\n",
        "\n"
      ],
      "metadata": {
        "id": "Pb_19eZkSdJb"
      },
      "execution_count": null,
      "outputs": []
    },
    {
      "cell_type": "markdown",
      "source": [
        "**Q14.** Create a class Product with attributes name, price, and quantity. Implement a method total_price() that\n",
        "calculates the total price of the product."
      ],
      "metadata": {
        "id": "zjQjRyRySdiQ"
      }
    },
    {
      "cell_type": "code",
      "source": [
        "class Product:\n",
        "    \"\"\"\n",
        "    A class to represent a product in a store.\n",
        "    \"\"\"\n",
        "\n",
        "    def __init__(self, name, price, quantity):\n",
        "        \"\"\"\n",
        "        Constructor to initialize the product object.\n",
        "\n",
        "        Args:\n",
        "            name (str): The name of the product.\n",
        "            price (float): The price of a single unit of the product.\n",
        "            quantity (int): The quantity of the product in stock.\n",
        "        \"\"\"\n",
        "        self.name = name\n",
        "        self.price = price\n",
        "        self.quantity = quantity\n",
        "\n",
        "    def total_price(self):\n",
        "        \"\"\"\n",
        "        Method to calculate the total price of the product.\n",
        "\n",
        "        Returns:\n",
        "            float: The total price for all units of the product.\n",
        "        \"\"\"\n",
        "        return self.price * self.quantity\n",
        "\n"
      ],
      "metadata": {
        "id": "e4EwV77_Shxz"
      },
      "execution_count": null,
      "outputs": []
    },
    {
      "cell_type": "markdown",
      "source": [
        "**Q15.** Create a class Animal with an abstract method sound(). Create two derived classes Cow and Sheep that\n",
        "implement the sound() method."
      ],
      "metadata": {
        "id": "K05V3g0lSiC_"
      }
    },
    {
      "cell_type": "code",
      "source": [
        "from abc import ABC, abstractmethod\n",
        "\n",
        "class Animal(ABC):\n",
        "    \"\"\"\n",
        "    An abstract base class representing an Animal.\n",
        "    \"\"\"\n",
        "\n",
        "    @abstractmethod\n",
        "    def sound(self):\n",
        "        \"\"\"\n",
        "        Abstract method that must be implemented by derived classes.\n",
        "        \"\"\"\n",
        "        pass\n",
        "\n",
        "class Cow(Animal):\n",
        "    \"\"\"\n",
        "    A class representing a Cow, derived from Animal.\n",
        "    \"\"\"\n",
        "\n",
        "    def sound(self):\n",
        "        \"\"\"Implement the sound method for Cow.\"\"\"\n",
        "        return \"Moo\"\n",
        "\n",
        "class Sheep(Animal):\n",
        "    \"\"\"\n",
        "    A class representing a Sheep, derived from Animal.\n",
        "    \"\"\"\n",
        "\n",
        "    def sound(self):\n",
        "        \"\"\"Implement the sound method for Sheep.\"\"\"\n",
        "        return \"Baa\"\n",
        "\n"
      ],
      "metadata": {
        "id": "3doh-Xr6Sndx"
      },
      "execution_count": null,
      "outputs": []
    },
    {
      "cell_type": "markdown",
      "source": [
        "**Q16.**Create a class Book with attributes title, author, and year_published. Add a method get_book_info() that\n",
        "returns a formatted string with the book's details."
      ],
      "metadata": {
        "id": "OrQmeHEASnvY"
      }
    },
    {
      "cell_type": "code",
      "source": [
        "class Book:\n",
        "    \"\"\"\n",
        "    A class to represent a book.\n",
        "    \"\"\"\n",
        "\n",
        "    def __init__(self, title, author, year_published):\n",
        "        \"\"\"\n",
        "        Constructor to initialize the book object.\n",
        "\n",
        "        Args:\n",
        "            title (str): The title of the book.\n",
        "            author (str): The author of the book.\n",
        "            year_published (int): The year the book was published.\n",
        "        \"\"\"\n",
        "        self.title = title\n",
        "        self.author = author\n",
        "        self.year_published = year_published\n",
        "\n",
        "    def get_book_info(self):\n",
        "        \"\"\"\n",
        "        Method to return a formatted string with the book's details.\n",
        "\n",
        "        Returns:\n",
        "            str: A formatted string containing the book's title,\n",
        "                 author, and year of publication.\n",
        "        \"\"\"\n",
        "        return f\"'{self.title}' by {self.author}, published in {self.year_published}\"\n",
        "\n"
      ],
      "metadata": {
        "id": "x3zNYElVStSt"
      },
      "execution_count": null,
      "outputs": []
    },
    {
      "cell_type": "markdown",
      "source": [
        "**Q17.**Create a class House with attributes address and price. Create a derived class Mansion that adds an\n",
        "attribute number_of_rooms."
      ],
      "metadata": {
        "id": "6XaCxLdFSto-"
      }
    },
    {
      "cell_type": "code",
      "source": [
        "class House:\n",
        "    \"\"\"\n",
        "    A class to represent a basic house.\n",
        "    \"\"\"\n",
        "\n",
        "    def __init__(self, address, price):\n",
        "        \"\"\"\n",
        "        Constructor to initialize the house object.\n",
        "\n",
        "        Args:\n",
        "            address (str): The address of the house.\n",
        "            price (float): The price of the house.\n",
        "        \"\"\"\n",
        "        self.address = address\n",
        "        self.price = price\n",
        "\n",
        "    def get_house_info(self):\n",
        "        \"\"\"\n",
        "        Method to return a formatted string with the house's details.\n",
        "\n",
        "        Returns:\n",
        "            str: A formatted string containing the house's address and price.\n",
        "        \"\"\"\n",
        "        return f\"House located at {self.address} is priced at ${self.price:,.2f}\"\n",
        "\n",
        "\n",
        "class Mansion(House):\n",
        "    \"\"\"\n",
        "    A class to represent a mansion, derived from House.\n",
        "    \"\"\"\n",
        "\n",
        "    def __init__(self, address, price, number_of_rooms):\n",
        "        \"\"\"\n",
        "        Constructor to initialize the mansion object.\n",
        "\n",
        "        Args:\n",
        "            address (str): The address of the mansion.\n",
        "            price (float): The price of the mansion.\n",
        "            number_of_rooms (int): The number of rooms in the mansion.\n",
        "        \"\"\"\n",
        "        super().__init__(address, price)  # Call the constructor of the base class\n",
        "        self.number_of_rooms = number_of_rooms\n",
        "\n",
        "    def get_mansion_info(self):\n",
        "        \"\"\"\n",
        "        Method to return a formatted string with the mansion's details.\n",
        "\n",
        "        Returns:\n",
        "            str: A formatted string containing the mansion's address, price,\n",
        "                 and number of rooms.\n",
        "        \"\"\"\n",
        "        return f\"{self.get_house_info()}, with {self.number_of_rooms} rooms.\"\n",
        "\n",
        "\n"
      ],
      "metadata": {
        "id": "5vrq4B1yUdh_"
      },
      "execution_count": null,
      "outputs": []
    }
  ]
}